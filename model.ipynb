{
 "cells": [
  {
   "cell_type": "markdown",
   "id": "efcd0e8a",
   "metadata": {},
   "source": [
    "# 1. Read collected data & pre-process"
   ]
  },
  {
   "cell_type": "code",
   "execution_count": 1,
   "id": "fbfd517a",
   "metadata": {},
   "outputs": [],
   "source": [
    "import pandas as pd\n",
    "from sklearn.model_selection import train_test_split"
   ]
  },
  {
   "cell_type": "code",
   "execution_count": 2,
   "id": "17d54a5a",
   "metadata": {},
   "outputs": [],
   "source": [
    "df = pd.read_csv('dataset/keypoints_combined.csv')"
   ]
  },
  {
   "cell_type": "code",
   "execution_count": 3,
   "id": "05aaa793",
   "metadata": {},
   "outputs": [],
   "source": [
    "x = df.drop('class', axis=1) # features\n",
    "y = df['class'] # target value"
   ]
  },
  {
   "cell_type": "code",
   "execution_count": 4,
   "id": "265434ce",
   "metadata": {},
   "outputs": [],
   "source": [
    "x_train, x_test, y_train, y_test = train_test_split(x, y, test_size=0.2, random_state=42)"
   ]
  },
  {
   "cell_type": "code",
   "execution_count": 5,
   "id": "6573055e",
   "metadata": {},
   "outputs": [
    {
     "name": "stdout",
     "output_type": "stream",
     "text": [
      "22    A\n",
      "0     A\n",
      "47    B\n",
      "4     A\n",
      "53    B\n",
      "18    A\n",
      "10    A\n",
      "33    A\n",
      "44    B\n",
      "12    A\n",
      "31    A\n",
      "9     A\n",
      "59    B\n",
      "5     A\n",
      "Name: class, dtype: object\n"
     ]
    }
   ],
   "source": [
    "print(y_test)"
   ]
  },
  {
   "cell_type": "markdown",
   "id": "02128939",
   "metadata": {},
   "source": [
    "# 2. Train machine learning classification model"
   ]
  },
  {
   "cell_type": "code",
   "execution_count": 6,
   "id": "c05250f7",
   "metadata": {},
   "outputs": [],
   "source": [
    "from sklearn.pipeline import make_pipeline \n",
    "from sklearn.preprocessing import StandardScaler \n",
    "\n",
    "from sklearn.linear_model import LogisticRegression, RidgeClassifier\n",
    "from sklearn.ensemble import RandomForestClassifier, GradientBoostingClassifier"
   ]
  },
  {
   "cell_type": "code",
   "execution_count": 7,
   "id": "6bacbde5",
   "metadata": {},
   "outputs": [],
   "source": [
    "pipelines = {\n",
    "    'logistic-regression':make_pipeline(StandardScaler(), LogisticRegression()),\n",
    "    'ridge-classifier':make_pipeline(StandardScaler(), RidgeClassifier()),\n",
    "    'random-forest-classifier':make_pipeline(StandardScaler(), RandomForestClassifier()),\n",
    "    'gradient-boosting-classifier':make_pipeline(StandardScaler(), GradientBoostingClassifier()),\n",
    "}"
   ]
  },
  {
   "cell_type": "code",
   "execution_count": 8,
   "id": "7575d5ea",
   "metadata": {},
   "outputs": [],
   "source": [
    "fit_models = {}\n",
    "for algo, pipeline in pipelines.items():\n",
    "    model = pipeline.fit(x_train, y_train)\n",
    "    fit_models[algo] = model"
   ]
  },
  {
   "cell_type": "code",
   "execution_count": 9,
   "id": "00ba4a86",
   "metadata": {},
   "outputs": [
    {
     "data": {
      "text/plain": [
       "<bound method Pipeline.fit of Pipeline(steps=[('standardscaler', StandardScaler()),\n",
       "                ('gradientboostingclassifier', GradientBoostingClassifier())])>"
      ]
     },
     "execution_count": 9,
     "metadata": {},
     "output_type": "execute_result"
    }
   ],
   "source": [
    "pipeline.fit"
   ]
  },
  {
   "cell_type": "markdown",
   "id": "de26681e",
   "metadata": {},
   "source": [
    "# 3. Evaluate model"
   ]
  },
  {
   "cell_type": "code",
   "execution_count": 10,
   "id": "7b97840b",
   "metadata": {},
   "outputs": [],
   "source": [
    "from sklearn.metrics import accuracy_score # Accuracy metrics "
   ]
  },
  {
   "cell_type": "code",
   "execution_count": 11,
   "id": "e55a7cee",
   "metadata": {},
   "outputs": [
    {
     "name": "stdout",
     "output_type": "stream",
     "text": [
      "logistic-regression 1.0\n",
      "ridge-classifier 1.0\n",
      "random-forest-classifier 1.0\n",
      "gradient-boosting-classifier 1.0\n"
     ]
    }
   ],
   "source": [
    "for algo, model in fit_models.items():\n",
    "    yhat = model.predict(x_test)\n",
    "    print(algo, accuracy_score(y_test, yhat))"
   ]
  },
  {
   "cell_type": "code",
   "execution_count": 12,
   "id": "43e96406",
   "metadata": {},
   "outputs": [
    {
     "data": {
      "text/plain": [
       "array(['A', 'A', 'B', 'A', 'B', 'A', 'A', 'A', 'B', 'A', 'A', 'A', 'B',\n",
       "       'A'], dtype=object)"
      ]
     },
     "execution_count": 12,
     "metadata": {},
     "output_type": "execute_result"
    }
   ],
   "source": [
    "fit_models['random-forest-classifier'].predict(x_test)"
   ]
  },
  {
   "cell_type": "code",
   "execution_count": 13,
   "id": "98accea6",
   "metadata": {},
   "outputs": [
    {
     "data": {
      "text/plain": [
       "22    A\n",
       "0     A\n",
       "47    B\n",
       "4     A\n",
       "53    B\n",
       "18    A\n",
       "10    A\n",
       "33    A\n",
       "44    B\n",
       "12    A\n",
       "31    A\n",
       "9     A\n",
       "59    B\n",
       "5     A\n",
       "Name: class, dtype: object"
      ]
     },
     "execution_count": 13,
     "metadata": {},
     "output_type": "execute_result"
    }
   ],
   "source": [
    "y_test"
   ]
  },
  {
   "cell_type": "markdown",
   "id": "51d05be0",
   "metadata": {},
   "source": [
    "# 4. Serialize/Export model"
   ]
  },
  {
   "cell_type": "code",
   "execution_count": 14,
   "id": "40e9cb37",
   "metadata": {},
   "outputs": [],
   "source": [
    "import pickle "
   ]
  },
  {
   "cell_type": "code",
   "execution_count": 16,
   "id": "cd42cd6c",
   "metadata": {},
   "outputs": [],
   "source": [
    "with open('model/trained_classifier.pkl', 'wb') as f:\n",
    "    pickle.dump(fit_models['random-forest-classifier'], f)"
   ]
  },
  {
   "cell_type": "code",
   "execution_count": null,
   "id": "4be1df0b",
   "metadata": {},
   "outputs": [],
   "source": []
  }
 ],
 "metadata": {
  "kernelspec": {
   "display_name": "Python 3 (ipykernel)",
   "language": "python",
   "name": "python3"
  },
  "language_info": {
   "codemirror_mode": {
    "name": "ipython",
    "version": 3
   },
   "file_extension": ".py",
   "mimetype": "text/x-python",
   "name": "python",
   "nbconvert_exporter": "python",
   "pygments_lexer": "ipython3",
   "version": "3.9.7"
  }
 },
 "nbformat": 4,
 "nbformat_minor": 5
}
