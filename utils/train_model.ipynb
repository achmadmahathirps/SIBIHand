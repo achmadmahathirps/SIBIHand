{
 "cells": [
  {
   "cell_type": "markdown",
   "id": "efcd0e8a",
   "metadata": {},
   "source": [
    "# 1. Read collected data & pre-process"
   ]
  },
  {
   "cell_type": "code",
   "execution_count": 3,
   "id": "0a904fb6-b217-4a49-a3c5-58256908e816",
   "metadata": {},
   "outputs": [
    {
     "name": "stdout",
     "output_type": "stream",
     "text": [
      "Requirement already satisfied: scikit-learn in c:\\users\\mahathir\\anaconda3\\lib\\site-packages (1.0.2)\n",
      "Collecting scikit-learn\n",
      "  Downloading scikit_learn-1.2.0-cp39-cp39-win_amd64.whl (8.3 MB)\n",
      "Requirement already satisfied: numpy>=1.17.3 in c:\\users\\mahathir\\anaconda3\\lib\\site-packages (from scikit-learn) (1.21.5)\n",
      "Requirement already satisfied: threadpoolctl>=2.0.0 in c:\\users\\mahathir\\anaconda3\\lib\\site-packages (from scikit-learn) (2.2.0)\n",
      "Requirement already satisfied: scipy>=1.3.2 in c:\\users\\mahathir\\anaconda3\\lib\\site-packages (from scikit-learn) (1.7.3)\n",
      "Collecting joblib>=1.1.1\n",
      "  Using cached joblib-1.2.0-py3-none-any.whl (297 kB)\n",
      "Installing collected packages: joblib, scikit-learn\n",
      "  Attempting uninstall: joblib\n",
      "    Found existing installation: joblib 1.1.0\n",
      "    Uninstalling joblib-1.1.0:\n",
      "      Successfully uninstalled joblib-1.1.0\n",
      "  Attempting uninstall: scikit-learn\n",
      "    Found existing installation: scikit-learn 1.0.2\n",
      "    Uninstalling scikit-learn-1.0.2:\n",
      "      Successfully uninstalled scikit-learn-1.0.2\n",
      "Successfully installed joblib-1.2.0 scikit-learn-1.2.0\n",
      "Note: you may need to restart the kernel to use updated packages.\n"
     ]
    }
   ],
   "source": [
    "pip install scikit-learn --upgrade"
   ]
  },
  {
   "cell_type": "code",
   "execution_count": 1,
   "id": "fbfd517a",
   "metadata": {},
   "outputs": [],
   "source": [
    "# Import relevant dependencies\n",
    "import pandas as pd\n",
    "import os\n",
    "from sklearn.model_selection import train_test_split"
   ]
  },
  {
   "cell_type": "code",
   "execution_count": 2,
   "id": "17d54a5a",
   "metadata": {
    "scrolled": true
   },
   "outputs": [],
   "source": [
    "# Initialize main directory location\n",
    "path = os.getcwd()\n",
    "main_directory = os.path.dirname(path)\n",
    "\n",
    "# Read combined .csv dataset file from previous data collection\n",
    "df = pd.read_csv(main_directory + '/dataset/keypoints_combined_v3.csv')"
   ]
  },
  {
   "cell_type": "code",
   "execution_count": 3,
   "id": "45381ad7",
   "metadata": {},
   "outputs": [
    {
     "data": {
      "text/html": [
       "<div>\n",
       "<style scoped>\n",
       "    .dataframe tbody tr th:only-of-type {\n",
       "        vertical-align: middle;\n",
       "    }\n",
       "\n",
       "    .dataframe tbody tr th {\n",
       "        vertical-align: top;\n",
       "    }\n",
       "\n",
       "    .dataframe thead th {\n",
       "        text-align: right;\n",
       "    }\n",
       "</style>\n",
       "<table border=\"1\" class=\"dataframe\">\n",
       "  <thead>\n",
       "    <tr style=\"text-align: right;\">\n",
       "      <th></th>\n",
       "      <th>class</th>\n",
       "      <th>x1</th>\n",
       "      <th>y1</th>\n",
       "      <th>x2</th>\n",
       "      <th>y2</th>\n",
       "      <th>x3</th>\n",
       "      <th>y3</th>\n",
       "      <th>x4</th>\n",
       "      <th>y4</th>\n",
       "      <th>x5</th>\n",
       "      <th>...</th>\n",
       "      <th>x17</th>\n",
       "      <th>y17</th>\n",
       "      <th>x18</th>\n",
       "      <th>y18</th>\n",
       "      <th>x19</th>\n",
       "      <th>y19</th>\n",
       "      <th>x20</th>\n",
       "      <th>y20</th>\n",
       "      <th>x21</th>\n",
       "      <th>y21</th>\n",
       "    </tr>\n",
       "  </thead>\n",
       "  <tbody>\n",
       "    <tr>\n",
       "      <th>0</th>\n",
       "      <td>A</td>\n",
       "      <td>0</td>\n",
       "      <td>0</td>\n",
       "      <td>-0.175716</td>\n",
       "      <td>0.220965</td>\n",
       "      <td>-0.211916</td>\n",
       "      <td>0.533937</td>\n",
       "      <td>-0.184012</td>\n",
       "      <td>0.797134</td>\n",
       "      <td>-0.192308</td>\n",
       "      <td>...</td>\n",
       "      <td>0.139517</td>\n",
       "      <td>0.381599</td>\n",
       "      <td>0.365008</td>\n",
       "      <td>0.397436</td>\n",
       "      <td>0.417798</td>\n",
       "      <td>0.487934</td>\n",
       "      <td>0.300905</td>\n",
       "      <td>0.356712</td>\n",
       "      <td>0.250377</td>\n",
       "      <td>0.321267</td>\n",
       "    </tr>\n",
       "    <tr>\n",
       "      <th>1</th>\n",
       "      <td>A</td>\n",
       "      <td>0</td>\n",
       "      <td>0</td>\n",
       "      <td>-0.192946</td>\n",
       "      <td>0.240664</td>\n",
       "      <td>-0.272822</td>\n",
       "      <td>0.557054</td>\n",
       "      <td>-0.267635</td>\n",
       "      <td>0.809129</td>\n",
       "      <td>-0.206432</td>\n",
       "      <td>...</td>\n",
       "      <td>0.140041</td>\n",
       "      <td>0.349585</td>\n",
       "      <td>0.378631</td>\n",
       "      <td>0.429461</td>\n",
       "      <td>0.411826</td>\n",
       "      <td>0.576763</td>\n",
       "      <td>0.329876</td>\n",
       "      <td>0.429461</td>\n",
       "      <td>0.280083</td>\n",
       "      <td>0.340249</td>\n",
       "    </tr>\n",
       "    <tr>\n",
       "      <th>2</th>\n",
       "      <td>A</td>\n",
       "      <td>0</td>\n",
       "      <td>0</td>\n",
       "      <td>-0.190476</td>\n",
       "      <td>0.239130</td>\n",
       "      <td>-0.268116</td>\n",
       "      <td>0.552795</td>\n",
       "      <td>-0.260870</td>\n",
       "      <td>0.804348</td>\n",
       "      <td>-0.206004</td>\n",
       "      <td>...</td>\n",
       "      <td>0.132505</td>\n",
       "      <td>0.342650</td>\n",
       "      <td>0.378882</td>\n",
       "      <td>0.420290</td>\n",
       "      <td>0.415114</td>\n",
       "      <td>0.568323</td>\n",
       "      <td>0.324017</td>\n",
       "      <td>0.420290</td>\n",
       "      <td>0.268116</td>\n",
       "      <td>0.329193</td>\n",
       "    </tr>\n",
       "    <tr>\n",
       "      <th>3</th>\n",
       "      <td>A</td>\n",
       "      <td>0</td>\n",
       "      <td>0</td>\n",
       "      <td>-0.266212</td>\n",
       "      <td>0.179750</td>\n",
       "      <td>-0.427759</td>\n",
       "      <td>0.476678</td>\n",
       "      <td>-0.431172</td>\n",
       "      <td>0.786121</td>\n",
       "      <td>-0.369738</td>\n",
       "      <td>...</td>\n",
       "      <td>0.043231</td>\n",
       "      <td>0.550626</td>\n",
       "      <td>0.275313</td>\n",
       "      <td>0.583618</td>\n",
       "      <td>0.325370</td>\n",
       "      <td>0.711035</td>\n",
       "      <td>0.258248</td>\n",
       "      <td>0.530148</td>\n",
       "      <td>0.216155</td>\n",
       "      <td>0.490330</td>\n",
       "    </tr>\n",
       "    <tr>\n",
       "      <th>4</th>\n",
       "      <td>A</td>\n",
       "      <td>0</td>\n",
       "      <td>0</td>\n",
       "      <td>-0.232955</td>\n",
       "      <td>0.179383</td>\n",
       "      <td>-0.375812</td>\n",
       "      <td>0.495942</td>\n",
       "      <td>-0.403409</td>\n",
       "      <td>0.782468</td>\n",
       "      <td>-0.387175</td>\n",
       "      <td>...</td>\n",
       "      <td>0.101461</td>\n",
       "      <td>0.437500</td>\n",
       "      <td>0.370130</td>\n",
       "      <td>0.540584</td>\n",
       "      <td>0.387175</td>\n",
       "      <td>0.594968</td>\n",
       "      <td>0.275162</td>\n",
       "      <td>0.424513</td>\n",
       "      <td>0.233766</td>\n",
       "      <td>0.393669</td>\n",
       "    </tr>\n",
       "  </tbody>\n",
       "</table>\n",
       "<p>5 rows × 43 columns</p>\n",
       "</div>"
      ],
      "text/plain": [
       "  class  x1  y1        x2        y2        x3        y3        x4        y4  \\\n",
       "0     A   0   0 -0.175716  0.220965 -0.211916  0.533937 -0.184012  0.797134   \n",
       "1     A   0   0 -0.192946  0.240664 -0.272822  0.557054 -0.267635  0.809129   \n",
       "2     A   0   0 -0.190476  0.239130 -0.268116  0.552795 -0.260870  0.804348   \n",
       "3     A   0   0 -0.266212  0.179750 -0.427759  0.476678 -0.431172  0.786121   \n",
       "4     A   0   0 -0.232955  0.179383 -0.375812  0.495942 -0.403409  0.782468   \n",
       "\n",
       "         x5  ...       x17       y17       x18       y18       x19       y19  \\\n",
       "0 -0.192308  ...  0.139517  0.381599  0.365008  0.397436  0.417798  0.487934   \n",
       "1 -0.206432  ...  0.140041  0.349585  0.378631  0.429461  0.411826  0.576763   \n",
       "2 -0.206004  ...  0.132505  0.342650  0.378882  0.420290  0.415114  0.568323   \n",
       "3 -0.369738  ...  0.043231  0.550626  0.275313  0.583618  0.325370  0.711035   \n",
       "4 -0.387175  ...  0.101461  0.437500  0.370130  0.540584  0.387175  0.594968   \n",
       "\n",
       "        x20       y20       x21       y21  \n",
       "0  0.300905  0.356712  0.250377  0.321267  \n",
       "1  0.329876  0.429461  0.280083  0.340249  \n",
       "2  0.324017  0.420290  0.268116  0.329193  \n",
       "3  0.258248  0.530148  0.216155  0.490330  \n",
       "4  0.275162  0.424513  0.233766  0.393669  \n",
       "\n",
       "[5 rows x 43 columns]"
      ]
     },
     "execution_count": 3,
     "metadata": {},
     "output_type": "execute_result"
    }
   ],
   "source": [
    "df.head()"
   ]
  },
  {
   "cell_type": "code",
   "execution_count": 4,
   "id": "f323900f",
   "metadata": {},
   "outputs": [
    {
     "data": {
      "text/html": [
       "<div>\n",
       "<style scoped>\n",
       "    .dataframe tbody tr th:only-of-type {\n",
       "        vertical-align: middle;\n",
       "    }\n",
       "\n",
       "    .dataframe tbody tr th {\n",
       "        vertical-align: top;\n",
       "    }\n",
       "\n",
       "    .dataframe thead th {\n",
       "        text-align: right;\n",
       "    }\n",
       "</style>\n",
       "<table border=\"1\" class=\"dataframe\">\n",
       "  <thead>\n",
       "    <tr style=\"text-align: right;\">\n",
       "      <th></th>\n",
       "      <th>class</th>\n",
       "      <th>x1</th>\n",
       "      <th>y1</th>\n",
       "      <th>x2</th>\n",
       "      <th>y2</th>\n",
       "      <th>x3</th>\n",
       "      <th>y3</th>\n",
       "      <th>x4</th>\n",
       "      <th>y4</th>\n",
       "      <th>x5</th>\n",
       "      <th>...</th>\n",
       "      <th>x17</th>\n",
       "      <th>y17</th>\n",
       "      <th>x18</th>\n",
       "      <th>y18</th>\n",
       "      <th>x19</th>\n",
       "      <th>y19</th>\n",
       "      <th>x20</th>\n",
       "      <th>y20</th>\n",
       "      <th>x21</th>\n",
       "      <th>y21</th>\n",
       "    </tr>\n",
       "  </thead>\n",
       "  <tbody>\n",
       "    <tr>\n",
       "      <th>1294</th>\n",
       "      <td>Z</td>\n",
       "      <td>0</td>\n",
       "      <td>0</td>\n",
       "      <td>-0.186107</td>\n",
       "      <td>0.115334</td>\n",
       "      <td>-0.301442</td>\n",
       "      <td>0.323722</td>\n",
       "      <td>-0.251638</td>\n",
       "      <td>0.529489</td>\n",
       "      <td>-0.131062</td>\n",
       "      <td>...</td>\n",
       "      <td>-0.041940</td>\n",
       "      <td>0.343381</td>\n",
       "      <td>0.117955</td>\n",
       "      <td>0.422018</td>\n",
       "      <td>0.104849</td>\n",
       "      <td>0.505898</td>\n",
       "      <td>0.060288</td>\n",
       "      <td>0.372215</td>\n",
       "      <td>0.056356</td>\n",
       "      <td>0.300131</td>\n",
       "    </tr>\n",
       "    <tr>\n",
       "      <th>1295</th>\n",
       "      <td>Z</td>\n",
       "      <td>0</td>\n",
       "      <td>0</td>\n",
       "      <td>-0.024024</td>\n",
       "      <td>-0.117117</td>\n",
       "      <td>0.076577</td>\n",
       "      <td>-0.147147</td>\n",
       "      <td>0.310811</td>\n",
       "      <td>-0.117117</td>\n",
       "      <td>0.534535</td>\n",
       "      <td>...</td>\n",
       "      <td>0.409038</td>\n",
       "      <td>0.027810</td>\n",
       "      <td>0.484357</td>\n",
       "      <td>0.100811</td>\n",
       "      <td>0.597914</td>\n",
       "      <td>0.023175</td>\n",
       "      <td>0.495944</td>\n",
       "      <td>-0.032445</td>\n",
       "      <td>0.411356</td>\n",
       "      <td>-0.017381</td>\n",
       "    </tr>\n",
       "    <tr>\n",
       "      <th>1296</th>\n",
       "      <td>Z</td>\n",
       "      <td>0</td>\n",
       "      <td>0</td>\n",
       "      <td>0.063452</td>\n",
       "      <td>0.032995</td>\n",
       "      <td>0.228426</td>\n",
       "      <td>0.041878</td>\n",
       "      <td>0.447970</td>\n",
       "      <td>0.002538</td>\n",
       "      <td>0.656091</td>\n",
       "      <td>...</td>\n",
       "      <td>0.389552</td>\n",
       "      <td>0.058209</td>\n",
       "      <td>0.462687</td>\n",
       "      <td>0.120896</td>\n",
       "      <td>0.573134</td>\n",
       "      <td>0.055224</td>\n",
       "      <td>0.477612</td>\n",
       "      <td>0.011940</td>\n",
       "      <td>0.389552</td>\n",
       "      <td>0.023881</td>\n",
       "    </tr>\n",
       "    <tr>\n",
       "      <th>1297</th>\n",
       "      <td>Z</td>\n",
       "      <td>0</td>\n",
       "      <td>0</td>\n",
       "      <td>-0.031250</td>\n",
       "      <td>0.040179</td>\n",
       "      <td>0.142857</td>\n",
       "      <td>0.120536</td>\n",
       "      <td>0.406250</td>\n",
       "      <td>0.142857</td>\n",
       "      <td>0.616071</td>\n",
       "      <td>...</td>\n",
       "      <td>0.319797</td>\n",
       "      <td>-0.076142</td>\n",
       "      <td>0.482234</td>\n",
       "      <td>0.172589</td>\n",
       "      <td>0.573604</td>\n",
       "      <td>0.060914</td>\n",
       "      <td>0.446701</td>\n",
       "      <td>-0.040609</td>\n",
       "      <td>0.345178</td>\n",
       "      <td>-0.076142</td>\n",
       "    </tr>\n",
       "    <tr>\n",
       "      <th>1298</th>\n",
       "      <td>Z</td>\n",
       "      <td>0</td>\n",
       "      <td>0</td>\n",
       "      <td>0.016393</td>\n",
       "      <td>-0.021858</td>\n",
       "      <td>0.224044</td>\n",
       "      <td>0.049180</td>\n",
       "      <td>0.513661</td>\n",
       "      <td>0.065574</td>\n",
       "      <td>0.715847</td>\n",
       "      <td>...</td>\n",
       "      <td>0.205980</td>\n",
       "      <td>-0.106312</td>\n",
       "      <td>0.478405</td>\n",
       "      <td>0.016611</td>\n",
       "      <td>0.501661</td>\n",
       "      <td>-0.083056</td>\n",
       "      <td>0.345515</td>\n",
       "      <td>-0.136213</td>\n",
       "      <td>0.249169</td>\n",
       "      <td>-0.132890</td>\n",
       "    </tr>\n",
       "  </tbody>\n",
       "</table>\n",
       "<p>5 rows × 43 columns</p>\n",
       "</div>"
      ],
      "text/plain": [
       "     class  x1  y1        x2        y2        x3        y3        x4  \\\n",
       "1294     Z   0   0 -0.186107  0.115334 -0.301442  0.323722 -0.251638   \n",
       "1295     Z   0   0 -0.024024 -0.117117  0.076577 -0.147147  0.310811   \n",
       "1296     Z   0   0  0.063452  0.032995  0.228426  0.041878  0.447970   \n",
       "1297     Z   0   0 -0.031250  0.040179  0.142857  0.120536  0.406250   \n",
       "1298     Z   0   0  0.016393 -0.021858  0.224044  0.049180  0.513661   \n",
       "\n",
       "            y4        x5  ...       x17       y17       x18       y18  \\\n",
       "1294  0.529489 -0.131062  ... -0.041940  0.343381  0.117955  0.422018   \n",
       "1295 -0.117117  0.534535  ...  0.409038  0.027810  0.484357  0.100811   \n",
       "1296  0.002538  0.656091  ...  0.389552  0.058209  0.462687  0.120896   \n",
       "1297  0.142857  0.616071  ...  0.319797 -0.076142  0.482234  0.172589   \n",
       "1298  0.065574  0.715847  ...  0.205980 -0.106312  0.478405  0.016611   \n",
       "\n",
       "           x19       y19       x20       y20       x21       y21  \n",
       "1294  0.104849  0.505898  0.060288  0.372215  0.056356  0.300131  \n",
       "1295  0.597914  0.023175  0.495944 -0.032445  0.411356 -0.017381  \n",
       "1296  0.573134  0.055224  0.477612  0.011940  0.389552  0.023881  \n",
       "1297  0.573604  0.060914  0.446701 -0.040609  0.345178 -0.076142  \n",
       "1298  0.501661 -0.083056  0.345515 -0.136213  0.249169 -0.132890  \n",
       "\n",
       "[5 rows x 43 columns]"
      ]
     },
     "execution_count": 4,
     "metadata": {},
     "output_type": "execute_result"
    }
   ],
   "source": [
    "df.tail()"
   ]
  },
  {
   "cell_type": "code",
   "execution_count": 5,
   "id": "05aaa793",
   "metadata": {},
   "outputs": [],
   "source": [
    "# Initialize dataset feature and target values\n",
    "x = df.drop('class', axis=1).values # features\n",
    "y = df['class'].values # target value"
   ]
  },
  {
   "cell_type": "code",
   "execution_count": 7,
   "id": "265434ce",
   "metadata": {},
   "outputs": [],
   "source": [
    "# Split data into 80/20 for training part and testing part\n",
    "# Randomize dataset contents (to avoid possible over-fitting)\n",
    "x_train, x_test, y_train, y_test = train_test_split(x, y,  test_size=0.2, stratify=y, random_state=42)"
   ]
  },
  {
   "cell_type": "code",
   "execution_count": 8,
   "id": "6573055e",
   "metadata": {},
   "outputs": [
    {
     "name": "stdout",
     "output_type": "stream",
     "text": [
      "['Z' 'M' 'W' 'F' 'K' 'R' 'T' 'B' 'J' 'V' 'B' 'F' 'Z' 'X' 'Q' 'F' 'R' 'R'\n",
      " 'E' 'H' 'O' 'L' 'V' 'S' 'T' 'G' 'E' 'C' 'A' 'E' 'V' 'S' 'S' 'N' 'H' 'H'\n",
      " 'G' 'D' 'I' 'P' 'L' 'S' 'B' 'C' 'C' 'U' 'B' 'O' 'C' 'A' 'H' 'T' 'C' 'G'\n",
      " 'N' 'M' 'J' 'Y' 'V' 'E' 'Z' 'K' 'A' 'E' 'A' 'Z' 'G' 'J' 'L' 'Y' 'W' 'R'\n",
      " 'C' 'X' 'N' 'D' 'V' 'C' 'K' 'M' 'L' 'L' 'O' 'P' 'I' 'Q' 'W' 'E' 'Y' 'F'\n",
      " 'P' 'I' 'Y' 'B' 'S' 'K' 'D' 'F' 'I' 'P' 'K' 'R' 'K' 'C' 'U' 'L' 'Z' 'X'\n",
      " 'P' 'Y' 'M' 'H' 'Y' 'Z' 'Q' 'C' 'Q' 'O' 'G' 'M' 'L' 'N' 'G' 'E' 'N' 'Z'\n",
      " 'S' 'Z' 'W' 'F' 'M' 'R' 'W' 'B' 'D' 'K' 'N' 'A' 'J' 'S' 'X' 'L' 'U' 'J'\n",
      " 'N' 'I' 'F' 'B' 'M' 'P' 'I' 'T' 'A' 'V' 'X' 'Q' 'Y' 'E' 'J' 'P' 'S' 'Z'\n",
      " 'O' 'T' 'H' 'D' 'R' 'J' 'J' 'M' 'D' 'W' 'G' 'H' 'S' 'U' 'N' 'L' 'O' 'T'\n",
      " 'V' 'Q' 'N' 'U' 'M' 'X' 'V' 'K' 'G' 'U' 'J' 'Q' 'D' 'F' 'T' 'T' 'C' 'A'\n",
      " 'B' 'U' 'M' 'J' 'Y' 'W' 'O' 'W' 'H' 'B' 'X' 'A' 'H' 'X' 'N' 'U' 'V' 'P'\n",
      " 'D' 'R' 'I' 'Q' 'E' 'E' 'B' 'K' 'F' 'I' 'O' 'R' 'O' 'Q' 'A' 'F' 'U' 'T'\n",
      " 'P' 'Y' 'S' 'R' 'G' 'H' 'T' 'U' 'V' 'A' 'I' 'K' 'G' 'X' 'L' 'P' 'W' 'D'\n",
      " 'O' 'Z' 'W' 'Y' 'D' 'Q' 'X' 'I']\n"
     ]
    }
   ],
   "source": [
    "print(y_test)\n"
   ]
  },
  {
   "cell_type": "markdown",
   "id": "02128939",
   "metadata": {},
   "source": [
    "# 2. Train machine learning classification model"
   ]
  },
  {
   "cell_type": "code",
   "execution_count": 9,
   "id": "c05250f7",
   "metadata": {},
   "outputs": [],
   "source": [
    "# import relevant dependencies and model libraries\n",
    "from sklearn.pipeline import make_pipeline \n",
    "from sklearn.metrics import classification_report\n",
    "from sklearn.preprocessing import StandardScaler\n",
    "from sklearn.svm import SVC"
   ]
  },
  {
   "cell_type": "markdown",
   "id": "87b08948",
   "metadata": {},
   "source": [
    "Pipeline way"
   ]
  },
  {
   "cell_type": "code",
   "execution_count": 10,
   "id": "6bacbde5",
   "metadata": {},
   "outputs": [],
   "source": [
    "# Initialize training pipelines\n",
    "pipelines = {\n",
    "    'SVM':make_pipeline(StandardScaler(), SVC(probability=True, kernel='linear', C=1))\n",
    "}"
   ]
  },
  {
   "cell_type": "code",
   "execution_count": 11,
   "id": "7575d5ea",
   "metadata": {},
   "outputs": [],
   "source": [
    "fit_models = {}\n",
    "for algo, pipeline in pipelines.items():\n",
    "    model = pipeline.fit(x_train, y_train)\n",
    "    fit_models[algo] = model"
   ]
  },
  {
   "cell_type": "code",
   "execution_count": 12,
   "id": "fb42060e-8211-4aba-afb1-49faab95b7c2",
   "metadata": {},
   "outputs": [
    {
     "data": {
      "text/plain": [
       "{'SVM': Pipeline(steps=[('standardscaler', StandardScaler()),\n",
       "                 ('svc', SVC(C=1, kernel='linear', probability=True))])}"
      ]
     },
     "execution_count": 12,
     "metadata": {},
     "output_type": "execute_result"
    }
   ],
   "source": [
    "fit_models"
   ]
  },
  {
   "cell_type": "markdown",
   "id": "de26681e",
   "metadata": {},
   "source": [
    "# 3. Evaluate model"
   ]
  },
  {
   "cell_type": "code",
   "execution_count": 13,
   "id": "7b97840b",
   "metadata": {},
   "outputs": [],
   "source": [
    "# Import dependencies\n",
    "from sklearn.metrics import confusion_matrix\n",
    "from sklearn.metrics import classification_report\n",
    "import matplotlib.pyplot as plt\n",
    "import seaborn as sns\n",
    "\n",
    "labels = ['A', 'B', 'C', 'D', 'E', 'F', 'G', 'H', 'I', 'J', 'K', 'L', 'M', 'N', 'O', 'P', 'Q', 'R', 'S', 'T', 'U', 'V', 'W', 'X', 'Y', 'Z']\n"
   ]
  },
  {
   "cell_type": "code",
   "execution_count": 14,
   "id": "e55a7cee",
   "metadata": {},
   "outputs": [
    {
     "name": "stdout",
     "output_type": "stream",
     "text": [
      "              precision    recall  f1-score   support\n",
      "\n",
      "           A       1.00      1.00      1.00        10\n",
      "           B       1.00      1.00      1.00        10\n",
      "           C       1.00      1.00      1.00        10\n",
      "           D       1.00      0.90      0.95        10\n",
      "           E       1.00      1.00      1.00        10\n",
      "           F       1.00      1.00      1.00        10\n",
      "           G       1.00      1.00      1.00        10\n",
      "           H       1.00      1.00      1.00        10\n",
      "           I       1.00      1.00      1.00        10\n",
      "           J       1.00      1.00      1.00        10\n",
      "           K       1.00      1.00      1.00        10\n",
      "           L       1.00      1.00      1.00        10\n",
      "           M       1.00      1.00      1.00        10\n",
      "           N       1.00      1.00      1.00        10\n",
      "           O       1.00      1.00      1.00        10\n",
      "           P       1.00      1.00      1.00        10\n",
      "           Q       1.00      1.00      1.00        10\n",
      "           R       1.00      0.90      0.95        10\n",
      "           S       1.00      1.00      1.00        10\n",
      "           T       1.00      1.00      1.00        10\n",
      "           U       0.91      1.00      0.95        10\n",
      "           V       1.00      1.00      1.00        10\n",
      "           W       1.00      1.00      1.00        10\n",
      "           X       0.91      1.00      0.95        10\n",
      "           Y       1.00      1.00      1.00        10\n",
      "           Z       1.00      1.00      1.00        10\n",
      "\n",
      "    accuracy                           0.99       260\n",
      "   macro avg       0.99      0.99      0.99       260\n",
      "weighted avg       0.99      0.99      0.99       260\n",
      "\n"
     ]
    },
    {
     "data": {
      "image/png": "[encoded data removed]",
      "text/plain": [
       "<Figure size 432x288 with 2 Axes>"
      ]
     },
     "metadata": {
      "needs_background": "light"
     },
     "output_type": "display_data"
    }
   ],
   "source": [
    "# Run training evaluation\n",
    "for algo, model in fit_models.items():\n",
    "    pred = model.predict(x_test)\n",
    "    \n",
    "    cm = confusion_matrix(y_test, pred)\n",
    "    ax= plt.subplot()\n",
    "    plt.tick_params(axis='both', which='major', labelsize=10, labelbottom = False, bottom=False, top = False, labeltop=True)\n",
    "    sns.heatmap(cm, annot=True, fmt='g', ax=ax, xticklabels=labels, yticklabels=labels);\n",
    "    print(classification_report(y_test, pred))"
   ]
  },
  {
   "cell_type": "code",
   "execution_count": 15,
   "id": "43e96406",
   "metadata": {},
   "outputs": [
    {
     "data": {
      "text/plain": [
       "array(['Z', 'M', 'W', 'F', 'K', 'R', 'T', 'B', 'J', 'V', 'B', 'F', 'Z',\n",
       "       'X', 'Q', 'F', 'R', 'R', 'E', 'H', 'O', 'L', 'V', 'S', 'T', 'G',\n",
       "       'E', 'C', 'A', 'E', 'V', 'S', 'S', 'N', 'H', 'H', 'G', 'D', 'I',\n",
       "       'P', 'L', 'S', 'B', 'C', 'C', 'U', 'B', 'O', 'C', 'A', 'H', 'T',\n",
       "       'C', 'G', 'N', 'M', 'J', 'Y', 'V', 'E', 'Z', 'K', 'A', 'E', 'A',\n",
       "       'Z', 'G', 'J', 'L', 'Y', 'W', 'R', 'C', 'X', 'N', 'D', 'V', 'C',\n",
       "       'K', 'M', 'L', 'L', 'O', 'P', 'I', 'Q', 'W', 'E', 'Y', 'F', 'P',\n",
       "       'I', 'Y', 'B', 'S', 'K', 'D', 'F', 'I', 'P', 'K', 'R', 'K', 'C',\n",
       "       'U', 'L', 'Z', 'X', 'P', 'Y', 'M', 'H', 'Y', 'Z', 'Q', 'C', 'Q',\n",
       "       'O', 'G', 'M', 'L', 'N', 'G', 'E', 'N', 'Z', 'S', 'Z', 'W', 'F',\n",
       "       'M', 'R', 'W', 'B', 'D', 'K', 'N', 'A', 'J', 'S', 'X', 'L', 'U',\n",
       "       'J', 'N', 'I', 'F', 'B', 'M', 'P', 'I', 'T', 'A', 'V', 'X', 'Q',\n",
       "       'Y', 'E', 'J', 'P', 'S', 'Z', 'O', 'T', 'H', 'X', 'U', 'J', 'J',\n",
       "       'M', 'D', 'W', 'G', 'H', 'S', 'U', 'N', 'L', 'O', 'T', 'V', 'Q',\n",
       "       'N', 'U', 'M', 'X', 'V', 'K', 'G', 'U', 'J', 'Q', 'D', 'F', 'T',\n",
       "       'T', 'C', 'A', 'B', 'U', 'M', 'J', 'Y', 'W', 'O', 'W', 'H', 'B',\n",
       "       'X', 'A', 'H', 'X', 'N', 'U', 'V', 'P', 'D', 'R', 'I', 'Q', 'E',\n",
       "       'E', 'B', 'K', 'F', 'I', 'O', 'R', 'O', 'Q', 'A', 'F', 'U', 'T',\n",
       "       'P', 'Y', 'S', 'R', 'G', 'H', 'T', 'U', 'V', 'A', 'I', 'K', 'G',\n",
       "       'X', 'L', 'P', 'W', 'D', 'O', 'Z', 'W', 'Y', 'D', 'Q', 'X', 'I'],\n",
       "      dtype=object)"
      ]
     },
     "execution_count": 15,
     "metadata": {},
     "output_type": "execute_result"
    }
   ],
   "source": [
    "fit_models['SVM'].predict(x_test)"
   ]
  },
  {
   "cell_type": "markdown",
   "id": "51d05be0",
   "metadata": {},
   "source": [
    "# 4. Serialize/Export model"
   ]
  },
  {
   "cell_type": "code",
   "execution_count": 16,
   "id": "40e9cb37",
   "metadata": {},
   "outputs": [],
   "source": [
    "# import dependencies\n",
    "import pickle "
   ]
  },
  {
   "cell_type": "code",
   "execution_count": 17,
   "id": "cd42cd6c",
   "metadata": {},
   "outputs": [],
   "source": [
    "# Export trained model into specified directory as .pkl file\n",
    "with open(main_directory+'/model/svm_trained_classifier_test.pkl', 'wb') as f:\n",
    "    pickle.dump(fit_models['SVM'], f)"
   ]
  },
  {
   "cell_type": "code",
   "execution_count": null,
   "id": "b1a855db-3557-49a3-a1ee-1e170beb694c",
   "metadata": {},
   "outputs": [],
   "source": []
  }
 ],
 "metadata": {
  "kernelspec": {
   "display_name": "Python 3 (ipykernel)",
   "language": "python",
   "name": "python3"
  },
  "language_info": {
   "codemirror_mode": {
    "name": "ipython",
    "version": 3
   },
   "file_extension": ".py",
   "mimetype": "text/x-python",
   "name": "python",
   "nbconvert_exporter": "python",
   "pygments_lexer": "ipython3",
   "version": "3.9.12"
  },
  "vscode": {
   "interpreter": {
    "hash": "531b485039a895d723a85f23ffba8849f89deb444257ba5b9060557527d39769"
   }
  }
 },
 "nbformat": 4,
 "nbformat_minor": 5
}
