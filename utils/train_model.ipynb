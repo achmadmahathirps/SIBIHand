{
 "cells": [
  {
   "cell_type": "markdown",
   "id": "efcd0e8a",
   "metadata": {},
   "source": [
    "# 1. Read collected data & pre-process"
   ]
  },
  {
   "cell_type": "code",
   "execution_count": 29,
   "id": "fbfd517a",
   "metadata": {},
   "outputs": [],
   "source": [
    "# Import relevant dependencies\n",
    "import pandas as pd\n",
    "import os\n",
    "from sklearn.model_selection import train_test_split"
   ]
  },
  {
   "cell_type": "code",
   "execution_count": 30,
   "id": "17d54a5a",
   "metadata": {
    "scrolled": true
   },
   "outputs": [],
   "source": [
    "# Initialize main directory location\n",
    "path = os.getcwd()\n",
    "main_directory = os.path.dirname(path)\n",
    "\n",
    "# Read combined .csv dataset file from previous data collection\n",
    "df = pd.read_csv(main_directory + '/dataset/keypoints_combined.csv')"
   ]
  },
  {
   "cell_type": "code",
   "execution_count": 31,
   "id": "05aaa793",
   "metadata": {},
   "outputs": [],
   "source": [
    "# Initialize dataset feature and target values\n",
    "x = df.drop('class', axis=1) # features\n",
    "y = df['class'] # target value"
   ]
  },
  {
   "cell_type": "code",
   "execution_count": 32,
   "id": "265434ce",
   "metadata": {},
   "outputs": [],
   "source": [
    "# Split data into 80/20 for training part and testing part\n",
    "# Randomize dataset contents (to avoid possible over-fitting)\n",
    "x_train, x_test, y_train, y_test = train_test_split(x, y, test_size=0.2, random_state=42)"
   ]
  },
  {
   "cell_type": "code",
   "execution_count": 33,
   "id": "6573055e",
   "metadata": {},
   "outputs": [
    {
     "name": "stdout",
     "output_type": "stream",
     "text": [
      "301    R\n",
      "39     C\n",
      "338    T\n",
      "410    X\n",
      "155    I\n",
      "      ..\n",
      "449    Z\n",
      "137    H\n",
      "93     F\n",
      "57     D\n",
      "154    I\n",
      "Name: class, Length: 91, dtype: object\n"
     ]
    }
   ],
   "source": [
    "print(y_test)"
   ]
  },
  {
   "cell_type": "markdown",
   "id": "02128939",
   "metadata": {},
   "source": [
    "# 2. Train machine learning classification model"
   ]
  },
  {
   "cell_type": "code",
   "execution_count": 65,
   "id": "c05250f7",
   "metadata": {},
   "outputs": [],
   "source": [
    "# import relevant dependencies and model libraries\n",
    "from sklearn.pipeline import make_pipeline \n",
    "from sklearn.preprocessing import StandardScaler \n",
    "\n",
    "from sklearn.svm import SVC, NuSVC, LinearSVC"
   ]
  },
  {
   "cell_type": "code",
   "execution_count": 75,
   "id": "6bacbde5",
   "metadata": {},
   "outputs": [],
   "source": [
    "# Initialize training pipelines\n",
    "pipelines = {\n",
    "    'SVM':make_pipeline(StandardScaler(), SVC(probability=True, kernel='poly')),\n",
    "    'NuSVC':make_pipeline(StandardScaler(), NuSVC(probability=True))\n",
    "    \n",
    "}"
   ]
  },
  {
   "cell_type": "code",
   "execution_count": 76,
   "id": "7575d5ea",
   "metadata": {},
   "outputs": [],
   "source": [
    "fit_models = {}\n",
    "for algo, pipeline in pipelines.items():\n",
    "    model = pipeline.fit(x_train, y_train)\n",
    "    fit_models[algo] = model"
   ]
  },
  {
   "cell_type": "code",
   "execution_count": 77,
   "id": "00ba4a86",
   "metadata": {},
   "outputs": [
    {
     "data": {
      "text/plain": [
       "<bound method Pipeline.fit of Pipeline(steps=[('nusvc', NuSVC(probability=True))])>"
      ]
     },
     "execution_count": 77,
     "metadata": {},
     "output_type": "execute_result"
    }
   ],
   "source": [
    "pipeline.fit"
   ]
  },
  {
   "cell_type": "markdown",
   "id": "de26681e",
   "metadata": {},
   "source": [
    "# 3. Evaluate model"
   ]
  },
  {
   "cell_type": "code",
   "execution_count": 78,
   "id": "7b97840b",
   "metadata": {},
   "outputs": [],
   "source": [
    "# Import dependencies\n",
    "from sklearn.metrics import accuracy_score # Accuracy metrics "
   ]
  },
  {
   "cell_type": "code",
   "execution_count": 79,
   "id": "e55a7cee",
   "metadata": {},
   "outputs": [
    {
     "name": "stdout",
     "output_type": "stream",
     "text": [
      "SVM 0.978021978021978\n",
      "NuSVC 0.978021978021978\n"
     ]
    }
   ],
   "source": [
    "# Run training evaluation\n",
    "for algo, model in fit_models.items():\n",
    "    yhat = model.predict(x_test)\n",
    "    print(algo, accuracy_score(y_test, yhat))"
   ]
  },
  {
   "cell_type": "code",
   "execution_count": 80,
   "id": "43e96406",
   "metadata": {},
   "outputs": [
    {
     "data": {
      "text/plain": [
       "array(['R', 'C', 'T', 'X', 'I', 'O', 'O', 'F', 'X', 'B', 'E', 'L', 'I',\n",
       "       'U', 'S', 'D', 'J', 'N', 'Q', 'E', 'E', 'H', 'S', 'G', 'W', 'M',\n",
       "       'E', 'Z', 'A', 'P', 'V', 'O', 'Y', 'G', 'Z', 'E', 'Q', 'X', 'H',\n",
       "       'E', 'Q', 'F', 'Y', 'E', 'I', 'E', 'E', 'S', 'X', 'W', 'T', 'B',\n",
       "       'O', 'S', 'J', 'P', 'A', 'W', 'A', 'Z', 'L', 'A', 'B', 'Q', 'U',\n",
       "       'D', 'Y', 'P', 'R', 'L', 'X', 'W', 'B', 'L', 'S', 'Y', 'C', 'P',\n",
       "       'Z', 'G', 'K', 'Q', 'Y', 'B', 'C', 'Z', 'Z', 'H', 'F', 'D', 'I'],\n",
       "      dtype=object)"
      ]
     },
     "execution_count": 80,
     "metadata": {},
     "output_type": "execute_result"
    }
   ],
   "source": [
    "fit_models['SVM'].predict(x_test)"
   ]
  },
  {
   "cell_type": "code",
   "execution_count": 81,
   "id": "98accea6",
   "metadata": {},
   "outputs": [
    {
     "data": {
      "text/plain": [
       "301    R\n",
       "39     C\n",
       "338    T\n",
       "410    X\n",
       "155    I\n",
       "      ..\n",
       "449    Z\n",
       "137    H\n",
       "93     F\n",
       "57     D\n",
       "154    I\n",
       "Name: class, Length: 91, dtype: object"
      ]
     },
     "execution_count": 81,
     "metadata": {},
     "output_type": "execute_result"
    }
   ],
   "source": [
    "y_test"
   ]
  },
  {
   "cell_type": "markdown",
   "id": "51d05be0",
   "metadata": {},
   "source": [
    "# 4. Serialize/Export model"
   ]
  },
  {
   "cell_type": "code",
   "execution_count": 82,
   "id": "40e9cb37",
   "metadata": {},
   "outputs": [],
   "source": [
    "# import dependencies\n",
    "import pickle "
   ]
  },
  {
   "cell_type": "code",
   "execution_count": 83,
   "id": "cd42cd6c",
   "metadata": {},
   "outputs": [],
   "source": [
    "# Export trained model into specified directory as .pkl file\n",
    "with open(main_directory+'/model/svm_trained_classifier.pkl', 'wb') as f:\n",
    "    pickle.dump(fit_models['SVM'], f)"
   ]
  },
  {
   "cell_type": "code",
   "execution_count": null,
   "id": "4be1df0b",
   "metadata": {},
   "outputs": [],
   "source": []
  }
 ],
 "metadata": {
  "kernelspec": {
   "display_name": "Python 3 (ipykernel)",
   "language": "python",
   "name": "python3"
  },
  "language_info": {
   "codemirror_mode": {
    "name": "ipython",
    "version": 3
   },
   "file_extension": ".py",
   "mimetype": "text/x-python",
   "name": "python",
   "nbconvert_exporter": "python",
   "pygments_lexer": "ipython3",
   "version": "3.9.12"
  }
 },
 "nbformat": 4,
 "nbformat_minor": 5
}
