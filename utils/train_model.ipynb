{
 "cells": [
  {
   "cell_type": "markdown",
   "id": "efcd0e8a",
   "metadata": {},
   "source": [
    "# 1. Read collected data & pre-process"
   ]
  },
  {
   "cell_type": "code",
   "execution_count": 1,
   "id": "fbfd517a",
   "metadata": {},
   "outputs": [],
   "source": [
    "# Import relevant dependencies\n",
    "import pandas as pd\n",
    "import os\n",
    "from sklearn.model_selection import train_test_split"
   ]
  },
  {
   "cell_type": "code",
   "execution_count": 2,
   "id": "17d54a5a",
   "metadata": {
    "scrolled": true
   },
   "outputs": [],
   "source": [
    "# Initialize main directory location\n",
    "path = os.getcwd()\n",
    "main_directory = os.path.dirname(path)\n",
    "\n",
    "# Read combined .csv dataset file from previous data collection\n",
    "df = pd.read_csv(main_directory + '/dataset/keypoints_combined_v2.csv')"
   ]
  },
  {
   "cell_type": "code",
   "execution_count": 3,
   "id": "05aaa793",
   "metadata": {},
   "outputs": [],
   "source": [
    "# Initialize dataset feature and target values\n",
    "x = df.drop('class', axis=1) # features\n",
    "y = df['class'] # target value"
   ]
  },
  {
   "cell_type": "code",
   "execution_count": 39,
   "id": "265434ce",
   "metadata": {},
   "outputs": [],
   "source": [
    "# Split data into 80/20 for training part and testing part\n",
    "# Randomize dataset contents (to avoid possible over-fitting)\n",
    "x_train, x_test, y_train, y_test = train_test_split(x, y, test_size=0.2, random_state=42)"
   ]
  },
  {
   "cell_type": "code",
   "execution_count": 40,
   "id": "6573055e",
   "metadata": {},
   "outputs": [
    {
     "name": "stdout",
     "output_type": "stream",
     "text": [
      "478    J\n",
      "721    O\n",
      "312    G\n",
      "660    N\n",
      "823    Q\n",
      "      ..\n",
      "49     A\n",
      "844    Q\n",
      "413    I\n",
      "297    F\n",
      "86     B\n",
      "Name: class, Length: 130, dtype: object\n"
     ]
    }
   ],
   "source": [
    "print(y_test)"
   ]
  },
  {
   "cell_type": "markdown",
   "id": "02128939",
   "metadata": {},
   "source": [
    "# 2. Train machine learning classification model"
   ]
  },
  {
   "cell_type": "code",
   "execution_count": 41,
   "id": "c05250f7",
   "metadata": {},
   "outputs": [],
   "source": [
    "# import relevant dependencies and model libraries\n",
    "from sklearn.pipeline import make_pipeline \n",
    "from sklearn.preprocessing import StandardScaler \n",
    "\n",
    "from sklearn.svm import SVC, NuSVC"
   ]
  },
  {
   "cell_type": "code",
   "execution_count": 42,
   "id": "6bacbde5",
   "metadata": {},
   "outputs": [],
   "source": [
    "# Initialize training pipelines\n",
    "pipelines = {\n",
    "    'SVM':make_pipeline(StandardScaler(), SVC(probability=True, kernel='linear')),\n",
    "    'RBF_SVM':make_pipeline(StandardScaler(), SVC(probability=True, kernel='rbf')),\n",
    "    'NuSVC':make_pipeline(StandardScaler(), NuSVC(probability=True))\n",
    "    \n",
    "}"
   ]
  },
  {
   "cell_type": "code",
   "execution_count": 43,
   "id": "7575d5ea",
   "metadata": {},
   "outputs": [],
   "source": [
    "fit_models = {}\n",
    "for algo, pipeline in pipelines.items():\n",
    "    model = pipeline.fit(x_train, y_train)\n",
    "    fit_models[algo] = model"
   ]
  },
  {
   "cell_type": "code",
   "execution_count": 44,
   "id": "00ba4a86",
   "metadata": {},
   "outputs": [
    {
     "data": {
      "text/plain": [
       "<bound method Pipeline.fit of Pipeline(steps=[('standardscaler', StandardScaler()),\n",
       "                ('nusvc', NuSVC(probability=True))])>"
      ]
     },
     "execution_count": 44,
     "metadata": {},
     "output_type": "execute_result"
    }
   ],
   "source": [
    "pipeline.fit"
   ]
  },
  {
   "cell_type": "code",
   "execution_count": 45,
   "id": "fb42060e-8211-4aba-afb1-49faab95b7c2",
   "metadata": {},
   "outputs": [
    {
     "data": {
      "text/plain": [
       "{'SVM': Pipeline(steps=[('standardscaler', StandardScaler()),\n",
       "                 ('svc', SVC(kernel='linear', probability=True))]),\n",
       " 'RBF_SVM': Pipeline(steps=[('standardscaler', StandardScaler()),\n",
       "                 ('svc', SVC(probability=True))]),\n",
       " 'NuSVC': Pipeline(steps=[('standardscaler', StandardScaler()),\n",
       "                 ('nusvc', NuSVC(probability=True))])}"
      ]
     },
     "execution_count": 45,
     "metadata": {},
     "output_type": "execute_result"
    }
   ],
   "source": [
    "fit_models"
   ]
  },
  {
   "cell_type": "markdown",
   "id": "de26681e",
   "metadata": {},
   "source": [
    "# 3. Evaluate model"
   ]
  },
  {
   "cell_type": "code",
   "execution_count": 46,
   "id": "7b97840b",
   "metadata": {},
   "outputs": [],
   "source": [
    "# Import dependencies\n",
    "from sklearn.metrics import accuracy_score # Accuracy metrics "
   ]
  },
  {
   "cell_type": "code",
   "execution_count": 47,
   "id": "e55a7cee",
   "metadata": {},
   "outputs": [
    {
     "name": "stdout",
     "output_type": "stream",
     "text": [
      "SVM 0.9769230769230769\n",
      "RBF_SVM 0.8692307692307693\n",
      "NuSVC 0.9307692307692308\n"
     ]
    }
   ],
   "source": [
    "# Run training evaluation\n",
    "for algo, model in fit_models.items():\n",
    "    yhat = model.predict(x_test)\n",
    "    print(algo, accuracy_score(y_test, yhat))"
   ]
  },
  {
   "cell_type": "code",
   "execution_count": 13,
   "id": "43e96406",
   "metadata": {},
   "outputs": [
    {
     "data": {
      "text/plain": [
       "array(['J', 'O', 'G', 'N', 'Q', 'O', 'S', 'M', 'W', 'C', 'Q', 'Y', 'M',\n",
       "       'N', 'R', 'E', 'X', 'O', 'K', 'D', 'M', 'U', 'V', 'V', 'R', 'A',\n",
       "       'P', 'J', 'Q', 'J', 'Z', 'A', 'W', 'K', 'I', 'U', 'T', 'S', 'M',\n",
       "       'V', 'N', 'B', 'F', 'X', 'X', 'E', 'B', 'R', 'M', 'J', 'Q', 'Y',\n",
       "       'V', 'G', 'M', 'S', 'N', 'A', 'B', 'Z', 'N', 'B', 'U', 'A', 'A',\n",
       "       'O', 'J', 'I', 'K', 'Y', 'Z', 'J', 'B', 'E', 'L', 'W', 'F', 'L',\n",
       "       'V', 'E', 'H', 'K', 'M', 'E', 'F', 'M', 'A', 'R', 'W', 'T', 'B',\n",
       "       'Y', 'R', 'I', 'L', 'V', 'L', 'Q', 'Q', 'F', 'F', 'Q', 'O', 'S',\n",
       "       'J', 'I', 'U', 'U', 'H', 'E', 'E', 'S', 'J', 'L', 'E', 'B', 'O',\n",
       "       'U', 'X', 'Z', 'V', 'U', 'H', 'T', 'J', 'A', 'Q', 'I', 'F', 'B',\n",
       "       'C', 'Y', 'I', 'G', 'Z', 'L', 'K', 'X', 'C', 'H', 'K', 'D', 'Q',\n",
       "       'X', 'H', 'I', 'Y', 'P', 'Z', 'A', 'F', 'O', 'A', 'G', 'U', 'M',\n",
       "       'Y', 'B', 'Z', 'M', 'Z', 'F', 'P', 'F', 'R', 'T', 'L', 'A', 'C',\n",
       "       'D', 'M', 'I', 'N', 'M', 'Q', 'Z', 'N', 'I', 'C', 'E', 'U', 'U',\n",
       "       'N', 'Y', 'X', 'Q', 'H', 'S', 'H', 'S', 'J', 'K', 'D', 'X', 'N',\n",
       "       'E', 'R', 'I', 'R', 'D', 'H', 'Z', 'H', 'L', 'B', 'U', 'L', 'E',\n",
       "       'B', 'T', 'D', 'C', 'F', 'N', 'H', 'O', 'Q', 'X', 'F', 'J', 'M',\n",
       "       'P', 'Y', 'O', 'K', 'O', 'S', 'I', 'T', 'L', 'O', 'L', 'Z', 'S',\n",
       "       'T', 'J', 'R', 'Y', 'R', 'D', 'Q', 'E', 'N', 'S', 'M', 'E', 'N',\n",
       "       'Q', 'C', 'R', 'H', 'M', 'Y', 'H', 'S', 'G', 'D', 'F', 'F', 'Q'],\n",
       "      dtype=object)"
      ]
     },
     "execution_count": 13,
     "metadata": {},
     "output_type": "execute_result"
    }
   ],
   "source": [
    "fit_models['SVM'].predict(x_test)"
   ]
  },
  {
   "cell_type": "code",
   "execution_count": 14,
   "id": "98accea6",
   "metadata": {},
   "outputs": [
    {
     "data": {
      "text/plain": [
       "478    J\n",
       "721    O\n",
       "312    G\n",
       "660    N\n",
       "823    Q\n",
       "      ..\n",
       "306    G\n",
       "199    D\n",
       "296    F\n",
       "286    F\n",
       "826    Q\n",
       "Name: class, Length: 260, dtype: object"
      ]
     },
     "execution_count": 14,
     "metadata": {},
     "output_type": "execute_result"
    }
   ],
   "source": [
    "y_test"
   ]
  },
  {
   "cell_type": "markdown",
   "id": "51d05be0",
   "metadata": {},
   "source": [
    "# 4. Serialize/Export model"
   ]
  },
  {
   "cell_type": "code",
   "execution_count": 19,
   "id": "40e9cb37",
   "metadata": {},
   "outputs": [],
   "source": [
    "# import dependencies\n",
    "import pickle "
   ]
  },
  {
   "cell_type": "code",
   "execution_count": 20,
   "id": "cd42cd6c",
   "metadata": {},
   "outputs": [],
   "source": [
    "# Export trained model into specified directory as .pkl file\n",
    "with open(main_directory+'/model/svm_trained_classifier_v2_20percent.pkl', 'wb') as f:\n",
    "    pickle.dump(fit_models['RBF_SVM'], f)"
   ]
  },
  {
   "cell_type": "code",
   "execution_count": null,
   "id": "4be1df0b",
   "metadata": {},
   "outputs": [],
   "source": []
  }
 ],
 "metadata": {
  "kernelspec": {
   "display_name": "Python 3 (ipykernel)",
   "language": "python",
   "name": "python3"
  },
  "language_info": {
   "codemirror_mode": {
    "name": "ipython",
    "version": 3
   },
   "file_extension": ".py",
   "mimetype": "text/x-python",
   "name": "python",
   "nbconvert_exporter": "python",
   "pygments_lexer": "ipython3",
   "version": "3.9.12"
  }
 },
 "nbformat": 4,
 "nbformat_minor": 5
}
