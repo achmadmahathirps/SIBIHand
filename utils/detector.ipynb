{
 "cells": [
  {
   "cell_type": "markdown",
   "id": "f48bc63f-1871-450b-a2bd-e21236b056f1",
   "metadata": {},
   "source": [
    "### 1. Import libraries and dependencies"
   ]
  },
  {
   "cell_type": "code",
   "execution_count": 4,
   "id": "82d5cf67-9414-46ba-be0a-5c157b379fdd",
   "metadata": {},
   "outputs": [],
   "source": [
    "import copy\n",
    "import itertools\n",
    "import pickle\n",
    "import time\n",
    "\n",
    "import cv2 as cv\n",
    "import mediapipe as mp\n",
    "import numpy as np\n",
    "import pandas as pd"
   ]
  },
  {
   "cell_type": "markdown",
   "id": "433846a2-6538-4ec7-a8c1-0d985a77a3a2",
   "metadata": {},
   "source": [
    "### 2. Initialize constants and variables"
   ]
  },
  {
   "cell_type": "code",
   "execution_count": 5,
   "id": "83a2e91f-9cce-40b9-8ec8-e21e47fb77ce",
   "metadata": {},
   "outputs": [],
   "source": [
    "# Initialize colors\n",
    "black = (0, 0, 0)\n",
    "grey_shade1 = (155, 168, 174)\n",
    "grey_shade2 = (188, 202, 208)\n",
    "grey_shade3 = (227, 232, 234)\n",
    "white = (255, 255, 255)\n",
    "\n",
    "# Initialize camera settings\n",
    "webcam = 0\n",
    "cap = cv.VideoCapture(webcam)\n",
    "cap.set(cv.CAP_PROP_FRAME_WIDTH, 960)\n",
    "cap.set(cv.CAP_PROP_FRAME_HEIGHT, 540)\n",
    "\n",
    "# Initialize misc.\n",
    "init_prev_time = 0\n",
    "escape_key = 27\n",
    "press_key = 0xFF\n",
    "\n",
    "# Initialize Mediapipe's hand model parameters\n",
    "mp_hands = mp.solutions.hands\n",
    "static_image_mode = False\n",
    "max_num_hands = 1\n",
    "min_detection_confidence = 0.8\n",
    "min_tracking_confidence = 0.2\n",
    "model_complexity = 0\n",
    "\n",
    "hands = mp_hands.Hands(\n",
    "    static_image_mode=static_image_mode,\n",
    "    max_num_hands=max_num_hands,\n",
    "    min_detection_confidence=min_detection_confidence,\n",
    "    min_tracking_confidence=min_tracking_confidence,\n",
    "    model_complexity=model_complexity\n",
    ")"
   ]
  },
  {
   "cell_type": "markdown",
   "id": "b893ff33-d3ac-4a6c-aff5-9c69ebc16a18",
   "metadata": {},
   "source": [
    "### 3. Initialize functions"
   ]
  },
  {
   "cell_type": "markdown",
   "id": "4de0f57d-03bd-4cfc-b187-dc76f96bb2db",
   "metadata": {},
   "source": [
    "##### Calculation functions"
   ]
  },
  {
   "cell_type": "code",
   "execution_count": null,
   "id": "dc7719fc-f4c4-4596-b74c-191728c35a3b",
   "metadata": {},
   "outputs": [],
   "source": [
    "def calc_bounding_box(image, landmarks):\n",
    "\n",
    "    image_width, image_height = image.shape[1], image.shape[0]\n",
    "    landmark_array = np.empty((0, 2), int)\n",
    "\n",
    "    for _, landmark in enumerate(landmarks.landmark):\n",
    "        landmark_x = min(int(landmark.x * image_width), image_width - 1)\n",
    "        landmark_y = min(int(landmark.y * image_height), image_height - 1)\n",
    "\n",
    "        landmark_point = [np.array((landmark_x, landmark_y))]\n",
    "\n",
    "        landmark_array = np.append(landmark_array, landmark_point, axis=0)\n",
    "\n",
    "    x, y, w, h = cv.boundingRect(landmark_array)\n",
    "\n",
    "    return [x, y, x + w, y + h]"
   ]
  },
  {
   "cell_type": "code",
   "execution_count": null,
   "id": "a90f2a53-b2e3-436e-a7e0-c3a013fc7479",
   "metadata": {},
   "outputs": [],
   "source": [
    "def calc_landmark_list(image, landmarks):\n",
    "    image_width, image_height = image.shape[1], image.shape[0]\n",
    "\n",
    "    landmark_point = []\n",
    "\n",
    "    # Keypoint\n",
    "    for _, landmark in enumerate(landmarks.landmark):\n",
    "        landmark_x = min(int(landmark.x * image_width), image_width - 1)\n",
    "        landmark_y = min(int(landmark.y * image_height), image_height - 1)\n",
    "        # landmark_z = landmark.z\n",
    "\n",
    "        landmark_point.append([landmark_x, landmark_y])\n",
    "\n",
    "    return landmark_point"
   ]
  },
  {
   "cell_type": "code",
   "execution_count": null,
   "id": "de9f4a56-dcd1-4595-932b-2f372f772604",
   "metadata": {},
   "outputs": [],
   "source": [
    "def pre_process_landmark(landmark_list):\n",
    "    temp_landmark_list = copy.deepcopy(landmark_list)\n",
    "\n",
    "    # Convert to relative coordinates\n",
    "    base_x, base_y = 0, 0\n",
    "    for index, landmark_point in enumerate(temp_landmark_list):\n",
    "        if index == 0:\n",
    "            base_x, base_y = landmark_point[0], landmark_point[1]\n",
    "\n",
    "        temp_landmark_list[index][0] = temp_landmark_list[index][0] - base_x\n",
    "        temp_landmark_list[index][1] = temp_landmark_list[index][1] - base_y\n",
    "\n",
    "    # Convert to a one-dimensional list\n",
    "    temp_landmark_list = list(\n",
    "        itertools.chain.from_iterable(temp_landmark_list))\n",
    "\n",
    "    # Normalization\n",
    "    max_value = max(list(map(abs, temp_landmark_list)))\n",
    "\n",
    "    def normalize_(n):\n",
    "        return n / max_value\n",
    "\n",
    "    temp_landmark_list = list(map(normalize_, temp_landmark_list))\n",
    "\n",
    "    return temp_landmark_list"
   ]
  },
  {
   "cell_type": "markdown",
   "id": "f69879bb-8501-4061-a6a7-1aefd3bc87fa",
   "metadata": {},
   "source": [
    "##### Cosmetic/Visual functions"
   ]
  },
  {
   "cell_type": "code",
   "execution_count": null,
   "id": "71b2ad0b-be46-45e3-b40d-509341a3ed40",
   "metadata": {},
   "outputs": [],
   "source": [
    "def draw_student_info(image):\n",
    "\n",
    "    x_position = 323\n",
    "    y_position = 470\n",
    "    font_size = 0.3\n",
    "    black_thickness = 2\n",
    "    white_thickness = 1\n",
    "\n",
    "    cv.putText(image, \"* Achmad Mahathir P. (187006041) | Universitas Siliwangi 2022\", (x_position, y_position),\n",
    "               cv.FONT_HERSHEY_SIMPLEX, font_size,\n",
    "               black, black_thickness,\n",
    "               cv.LINE_AA)\n",
    "    cv.putText(image, \"* Achmad Mahathir P. (187006041) | Universitas Siliwangi 2022\", (x_position, y_position),\n",
    "               cv.FONT_HERSHEY_SIMPLEX, font_size,\n",
    "               white, white_thickness,\n",
    "               cv.LINE_AA)\n",
    "\n",
    "    return image"
   ]
  },
  {
   "cell_type": "code",
   "execution_count": null,
   "id": "fd211b46-8a79-4abc-bc51-c26f92adfc9e",
   "metadata": {},
   "outputs": [],
   "source": [
    "def draw_fps(image, fps):\n",
    "\n",
    "    x_position = 10\n",
    "    y_position = 30\n",
    "    font_size = 0.73\n",
    "    black_thickness = 4\n",
    "    white_thickness = 2\n",
    "\n",
    "    cv.putText(image, \"FPS : \" + str(int(fps)), (x_position, y_position), cv.FONT_HERSHEY_SIMPLEX, font_size, black,\n",
    "               black_thickness,\n",
    "               cv.LINE_AA)\n",
    "    cv.putText(image, \"FPS : \" + str(int(fps)), (x_position, y_position), cv.FONT_HERSHEY_SIMPLEX, font_size, white,\n",
    "               white_thickness,\n",
    "               cv.LINE_AA)\n",
    "\n",
    "    return image"
   ]
  },
  {
   "cell_type": "code",
   "execution_count": null,
   "id": "25efab0a-de17-48fc-a22b-a6dde74af34f",
   "metadata": {},
   "outputs": [],
   "source": [
    "def draw_hand_detected(image):\n",
    "\n",
    "    x_position = 10\n",
    "    y_position = 60\n",
    "    font_size = 0.73\n",
    "    black_thickness = 4\n",
    "    white_thickness = 2\n",
    "\n",
    "    cv.putText(image, \"Hand detected\", (x_position, y_position), cv.FONT_HERSHEY_SIMPLEX, font_size,\n",
    "               black, black_thickness, cv.LINE_AA)\n",
    "    cv.putText(image, \"Hand detected\", (x_position, y_position), cv.FONT_HERSHEY_SIMPLEX, font_size,\n",
    "               white, white_thickness, cv.LINE_AA)\n",
    "\n",
    "    return image"
   ]
  }
 ],
 "metadata": {
  "kernelspec": {
   "display_name": "venv",
   "language": "python",
   "name": "venv"
  },
  "language_info": {
   "codemirror_mode": {
    "name": "ipython",
    "version": 3
   },
   "file_extension": ".py",
   "mimetype": "text/x-python",
   "name": "python",
   "nbconvert_exporter": "python",
   "pygments_lexer": "ipython3",
   "version": "3.10.4"
  }
 },
 "nbformat": 4,
 "nbformat_minor": 5
}
