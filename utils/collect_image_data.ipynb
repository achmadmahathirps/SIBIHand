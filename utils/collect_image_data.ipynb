{
 "cells": [
  {
   "cell_type": "markdown",
   "id": "9f8ef663",
   "metadata": {},
   "source": [
    "# 1. Import dependencies"
   ]
  },
  {
   "cell_type": "code",
   "execution_count": null,
   "id": "a711375f",
   "metadata": {},
   "outputs": [],
   "source": []
  },
  {
   "cell_type": "markdown",
   "id": "ab390a60",
   "metadata": {},
   "source": [
    "# 2. Initialization"
   ]
  },
  {
   "cell_type": "markdown",
   "id": "2749e8c6",
   "metadata": {},
   "source": [
    "## a. Initialize variables and models"
   ]
  },
  {
   "cell_type": "code",
   "execution_count": null,
   "id": "e7c438da",
   "metadata": {},
   "outputs": [],
   "source": []
  },
  {
   "cell_type": "markdown",
   "id": "9232727a",
   "metadata": {},
   "source": [
    "## b. Initialize functions"
   ]
  },
  {
   "cell_type": "code",
   "execution_count": null,
   "id": "2d8f4254",
   "metadata": {},
   "outputs": [],
   "source": []
  },
  {
   "cell_type": "markdown",
   "id": "a252f63c",
   "metadata": {},
   "source": [
    "## c. Initialize dataset template function"
   ]
  },
  {
   "cell_type": "code",
   "execution_count": null,
   "id": "fa0e63a5",
   "metadata": {},
   "outputs": [],
   "source": []
  },
  {
   "cell_type": "markdown",
   "id": "6daa9a46",
   "metadata": {},
   "source": [
    "## d. Initialize dataset logging function"
   ]
  },
  {
   "cell_type": "code",
   "execution_count": null,
   "id": "d1f24481",
   "metadata": {},
   "outputs": [],
   "source": []
  },
  {
   "cell_type": "markdown",
   "id": "637fa886",
   "metadata": {},
   "source": [
    "# 3. Capture, re-normalize & write landmark keypoints into dataset"
   ]
  },
  {
   "cell_type": "code",
   "execution_count": null,
   "id": "1ab6f8ed",
   "metadata": {},
   "outputs": [],
   "source": []
  }
 ],
 "metadata": {
  "kernelspec": {
   "display_name": "Python 3 (ipykernel)",
   "language": "python",
   "name": "python3"
  },
  "language_info": {
   "codemirror_mode": {
    "name": "ipython",
    "version": 3
   },
   "file_extension": ".py",
   "mimetype": "text/x-python",
   "name": "python",
   "nbconvert_exporter": "python",
   "pygments_lexer": "ipython3",
   "version": "3.9.7"
  }
 },
 "nbformat": 4,
 "nbformat_minor": 5
}
